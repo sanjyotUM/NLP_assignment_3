{
 "cells": [
  {
   "cell_type": "code",
   "execution_count": 117,
   "metadata": {},
   "outputs": [],
   "source": [
    "from html.parser import HTMLParser\n",
    "import pandas as pd"
   ]
  },
  {
   "cell_type": "code",
   "execution_count": 113,
   "metadata": {},
   "outputs": [],
   "source": [
    "class BNCParser(HTMLParser):\n",
    "    def __init__(self):\n",
    "        HTMLParser.__init__(self)\n",
    "        self.parsed_instances = list()\n",
    "        self.recording = False\n",
    "        self.this_instance = dict()\n",
    "        self.this_data = list()\n",
    "        \n",
    "    def handle_starttag(self, tag, attrs):\n",
    "        if tag == 'instance':\n",
    "            self.this_instance['id'] = attrs[0][1]\n",
    "        if tag == 'context':\n",
    "            self.recording =  True\n",
    "    \n",
    "    def handle_startendtag(self, tag, attrs):\n",
    "        if tag == 'answer':\n",
    "            self.this_instance['sense'] = attrs[1][1].split('%')[1]\n",
    "            \n",
    "    def handle_data(self, data):\n",
    "        if self.recording:\n",
    "            self.this_data.append(data)\n",
    "            \n",
    "    def handle_endtag(self, tag):\n",
    "        if tag == 'context':\n",
    "            self.recording = False\n",
    "        if tag == 'instance':\n",
    "            self.this_data = ' '.join(self.this_data)\n",
    "            self.this_instance['data'] = self.this_data.strip()\n",
    "            self.parsed_instances.append(self.this_instance)\n",
    "\n",
    "            self.this_instance = dict()\n",
    "            self.this_data = list()"
   ]
  },
  {
   "cell_type": "code",
   "execution_count": 119,
   "metadata": {},
   "outputs": [],
   "source": [
    "filename = 'plant-1.wsd'"
   ]
  },
  {
   "cell_type": "code",
   "execution_count": 127,
   "metadata": {},
   "outputs": [],
   "source": [
    "parser = BNCParser()\n",
    "\n",
    "with open(filename, 'r') as f:\n",
    "    parser.feed(f.read())"
   ]
  },
  {
   "cell_type": "code",
   "execution_count": 128,
   "metadata": {},
   "outputs": [],
   "source": [
    "df = pd.DataFrame(parser.parsed_instances)"
   ]
  },
  {
   "cell_type": "code",
   "execution_count": 129,
   "metadata": {},
   "outputs": [
    {
     "data": {
      "text/html": [
       "<div>\n",
       "<style scoped>\n",
       "    .dataframe tbody tr th:only-of-type {\n",
       "        vertical-align: middle;\n",
       "    }\n",
       "\n",
       "    .dataframe tbody tr th {\n",
       "        vertical-align: top;\n",
       "    }\n",
       "\n",
       "    .dataframe thead th {\n",
       "        text-align: right;\n",
       "    }\n",
       "</style>\n",
       "<table border=\"1\" class=\"dataframe\">\n",
       "  <thead>\n",
       "    <tr style=\"text-align: right;\">\n",
       "      <th></th>\n",
       "      <th>id</th>\n",
       "      <th>sense</th>\n",
       "      <th>data</th>\n",
       "    </tr>\n",
       "  </thead>\n",
       "  <tbody>\n",
       "    <tr>\n",
       "      <td>183</td>\n",
       "      <td>plant.1000195</td>\n",
       "      <td>living</td>\n",
       "      <td>Above jacket detail from The Glasshouse Garden...</td>\n",
       "    </tr>\n",
       "    <tr>\n",
       "      <td>184</td>\n",
       "      <td>plant.1000197</td>\n",
       "      <td>living</td>\n",
       "      <td>(3) THE POWER OF EVERYDAY LANGUAGE The science...</td>\n",
       "    </tr>\n",
       "    <tr>\n",
       "      <td>185</td>\n",
       "      <td>plant.1000198</td>\n",
       "      <td>living</td>\n",
       "      <td>Here Minton would occasionally stretch out und...</td>\n",
       "    </tr>\n",
       "    <tr>\n",
       "      <td>186</td>\n",
       "      <td>plant.1000199</td>\n",
       "      <td>living</td>\n",
       "      <td>This enabled the preservation of live programm...</td>\n",
       "    </tr>\n",
       "    <tr>\n",
       "      <td>187</td>\n",
       "      <td>plant.1000200</td>\n",
       "      <td>living</td>\n",
       "      <td>Nothing worked on that one. Everything went wr...</td>\n",
       "    </tr>\n",
       "  </tbody>\n",
       "</table>\n",
       "</div>"
      ],
      "text/plain": [
       "                id   sense                                               data\n",
       "183  plant.1000195  living  Above jacket detail from The Glasshouse Garden...\n",
       "184  plant.1000197  living  (3) THE POWER OF EVERYDAY LANGUAGE The science...\n",
       "185  plant.1000198  living  Here Minton would occasionally stretch out und...\n",
       "186  plant.1000199  living  This enabled the preservation of live programm...\n",
       "187  plant.1000200  living  Nothing worked on that one. Everything went wr..."
      ]
     },
     "execution_count": 129,
     "metadata": {},
     "output_type": "execute_result"
    }
   ],
   "source": [
    "df.tail()"
   ]
  },
  {
   "cell_type": "code",
   "execution_count": 133,
   "metadata": {},
   "outputs": [
    {
     "data": {
      "text/plain": [
       "(188, 3)"
      ]
     },
     "execution_count": 133,
     "metadata": {},
     "output_type": "execute_result"
    }
   ],
   "source": [
    "df.shape"
   ]
  }
 ],
 "metadata": {
  "kernelspec": {
   "display_name": "Python 3",
   "language": "python",
   "name": "python3"
  },
  "language_info": {
   "codemirror_mode": {
    "name": "ipython",
    "version": 3
   },
   "file_extension": ".py",
   "mimetype": "text/x-python",
   "name": "python",
   "nbconvert_exporter": "python",
   "pygments_lexer": "ipython3",
   "version": "3.7.4"
  }
 },
 "nbformat": 4,
 "nbformat_minor": 4
}
